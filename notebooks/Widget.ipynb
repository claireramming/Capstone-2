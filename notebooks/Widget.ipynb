{
 "cells": [
  {
   "cell_type": "markdown",
   "metadata": {},
   "source": [
    "get as many metrics as possible, require neighborhood, # rooms, etc, take random ratings and rating numbers a few times and find a range via the predictions. \n",
    "\n",
    "categories are put in alphabetical order, then the first one is dropped. \n"
   ]
  },
  {
   "cell_type": "code",
   "execution_count": 2,
   "metadata": {},
   "outputs": [
    {
     "name": "stderr",
     "output_type": "stream",
     "text": [
      "/Users/claireramming/.virtualenvs/retool-cs/lib/python3.7/site-packages/ipykernel_launcher.py:12: FutureWarning: In a future version of pandas all arguments of DataFrame.drop except for the argument 'labels' will be keyword-only\n",
      "  if sys.path[0] == '':\n"
     ]
    },
    {
     "data": {
      "text/html": [
       "<div>\n",
       "<style scoped>\n",
       "    .dataframe tbody tr th:only-of-type {\n",
       "        vertical-align: middle;\n",
       "    }\n",
       "\n",
       "    .dataframe tbody tr th {\n",
       "        vertical-align: top;\n",
       "    }\n",
       "\n",
       "    .dataframe thead th {\n",
       "        text-align: right;\n",
       "    }\n",
       "</style>\n",
       "<table border=\"1\" class=\"dataframe\">\n",
       "  <thead>\n",
       "    <tr style=\"text-align: right;\">\n",
       "      <th></th>\n",
       "      <th>room_type</th>\n",
       "      <th>borough</th>\n",
       "      <th>neighborhood</th>\n",
       "      <th>reviews</th>\n",
       "      <th>overall_satisfaction</th>\n",
       "      <th>accommodates</th>\n",
       "      <th>bedrooms</th>\n",
       "      <th>price</th>\n",
       "      <th>property_type</th>\n",
       "    </tr>\n",
       "  </thead>\n",
       "  <tbody>\n",
       "    <tr>\n",
       "      <th>0</th>\n",
       "      <td>Shared room</td>\n",
       "      <td>Queens</td>\n",
       "      <td>Jackson Heights</td>\n",
       "      <td>6</td>\n",
       "      <td>5.0</td>\n",
       "      <td>4</td>\n",
       "      <td>1.0</td>\n",
       "      <td>85.0</td>\n",
       "      <td>House</td>\n",
       "    </tr>\n",
       "    <tr>\n",
       "      <th>1</th>\n",
       "      <td>Shared room</td>\n",
       "      <td>Brooklyn</td>\n",
       "      <td>Cypress Hills</td>\n",
       "      <td>14</td>\n",
       "      <td>4.0</td>\n",
       "      <td>6</td>\n",
       "      <td>1.0</td>\n",
       "      <td>90.0</td>\n",
       "      <td>House</td>\n",
       "    </tr>\n",
       "    <tr>\n",
       "      <th>2</th>\n",
       "      <td>Shared room</td>\n",
       "      <td>Brooklyn</td>\n",
       "      <td>Sheepshead Bay</td>\n",
       "      <td>3</td>\n",
       "      <td>4.5</td>\n",
       "      <td>6</td>\n",
       "      <td>1.0</td>\n",
       "      <td>239.0</td>\n",
       "      <td>Apartment</td>\n",
       "    </tr>\n",
       "    <tr>\n",
       "      <th>3</th>\n",
       "      <td>Shared room</td>\n",
       "      <td>Manhattan</td>\n",
       "      <td>Hell's Kitchen</td>\n",
       "      <td>35</td>\n",
       "      <td>5.0</td>\n",
       "      <td>2</td>\n",
       "      <td>1.0</td>\n",
       "      <td>165.0</td>\n",
       "      <td>Apartment</td>\n",
       "    </tr>\n",
       "    <tr>\n",
       "      <th>7</th>\n",
       "      <td>Shared room</td>\n",
       "      <td>Manhattan</td>\n",
       "      <td>Harlem</td>\n",
       "      <td>8</td>\n",
       "      <td>5.0</td>\n",
       "      <td>2</td>\n",
       "      <td>1.0</td>\n",
       "      <td>110.0</td>\n",
       "      <td>Apartment</td>\n",
       "    </tr>\n",
       "  </tbody>\n",
       "</table>\n",
       "</div>"
      ],
      "text/plain": [
       "     room_type    borough     neighborhood  reviews  overall_satisfaction  \\\n",
       "0  Shared room     Queens  Jackson Heights        6                   5.0   \n",
       "1  Shared room   Brooklyn    Cypress Hills       14                   4.0   \n",
       "2  Shared room   Brooklyn   Sheepshead Bay        3                   4.5   \n",
       "3  Shared room  Manhattan   Hell's Kitchen       35                   5.0   \n",
       "7  Shared room  Manhattan           Harlem        8                   5.0   \n",
       "\n",
       "   accommodates  bedrooms  price property_type  \n",
       "0             4       1.0   85.0         House  \n",
       "1             6       1.0   90.0         House  \n",
       "2             6       1.0  239.0     Apartment  \n",
       "3             2       1.0  165.0     Apartment  \n",
       "7             2       1.0  110.0     Apartment  "
      ]
     },
     "execution_count": 2,
     "metadata": {},
     "output_type": "execute_result"
    }
   ],
   "source": [
    "import pandas as pd\n",
    "#import matplotlib.pyplot as plt\n",
    "import numpy as np\n",
    "#import seaborn as sns\n",
    "#import scipy\n",
    "from sklearn import preprocessing\n",
    "from sklearn.linear_model import LinearRegression\n",
    "import dill as pickle\n",
    "#%matplotlib inline\n",
    "\n",
    "july = pd.read_csv('./data/tomslee_airbnb_new_york_1438_2017-07-12.csv')\n",
    "july = july.drop(['room_id','survey_id', 'host_id', 'country', 'city', 'bathrooms', 'minstay', 'last_modified', 'location', 'name', 'latitude', 'longitude'], 1)\n",
    "#remove listings we already know are outliers (price greater than 500 and rooms at 50)\n",
    "july = july[(july.price < 500) & (july.bedrooms < 50) & (july.overall_satisfaction >= 3)]\n",
    "july.head()"
   ]
  },
  {
   "cell_type": "code",
   "execution_count": 2,
   "metadata": {},
   "outputs": [
    {
     "data": {
      "text/plain": [
       "array(['Shared room', 'Entire home/apt', 'Private room'], dtype=object)"
      ]
     },
     "execution_count": 2,
     "metadata": {},
     "output_type": "execute_result"
    }
   ],
   "source": [
    "july.room_type.unique()"
   ]
  },
  {
   "cell_type": "code",
   "execution_count": 3,
   "metadata": {},
   "outputs": [
    {
     "data": {
      "text/plain": [
       "Apartment             19814\n",
       "House                  2372\n",
       "Loft                    503\n",
       "Townhouse               410\n",
       "Condominium             221\n",
       "Other                   100\n",
       "Bed & Breakfast          96\n",
       "Guesthouse               32\n",
       "Hostel                   15\n",
       "Villa                    14\n",
       "Guest suite              13\n",
       "Dorm                     12\n",
       "Bungalow                 11\n",
       "Boutique hotel            8\n",
       "Timeshare                 6\n",
       "Boat                      4\n",
       "Cabin                     3\n",
       "Vacation home             2\n",
       "In-law                    2\n",
       "Serviced apartment        2\n",
       "Chalet                    2\n",
       "Camper/RV                 2\n",
       "Earth House               1\n",
       "Castle                    1\n",
       "Casa particular           1\n",
       "Name: property_type, dtype: int64"
      ]
     },
     "execution_count": 3,
     "metadata": {},
     "output_type": "execute_result"
    }
   ],
   "source": [
    "july.property_type.value_counts()"
   ]
  },
  {
   "cell_type": "code",
   "execution_count": 3,
   "metadata": {
    "collapsed": true
   },
   "outputs": [],
   "source": [
    "prop_dict = {}\n",
    "for prop_type in july.property_type.unique():\n",
    "    prop_dict[prop_type] = 'Other'"
   ]
  },
  {
   "cell_type": "code",
   "execution_count": 4,
   "metadata": {
    "collapsed": true
   },
   "outputs": [],
   "source": [
    "prop_dict = {}\n",
    "for prop_type in july.property_type.unique():\n",
    "    prop_dict[prop_type] = 'Other'\n",
    "\n",
    "prop_dict['Apartment'] = 'Apartment'\n",
    "prop_dict['Bed & Breakfast'] = 'Bed & Breakfast'\n",
    "prop_dict['Serviced Apartment'] = 'Apartment'\n",
    "prop_dict['Casa particular'] = 'Bed & Breakfast'\n",
    "prop_dict['Loft'] = 'Loft'\n",
    "prop_dict['Townhouse'] = 'Townhouse'\n",
    "prop_dict['Condominium'] = 'Condominium'\n",
    "prop_dict['House'] = 'House'\n",
    "\n",
    "july.property_type.replace(prop_dict, inplace=True)"
   ]
  },
  {
   "cell_type": "code",
   "execution_count": 6,
   "metadata": {
    "collapsed": true
   },
   "outputs": [],
   "source": [
    "#setting up sorted arrays so position is easy to find\n",
    "properties = np.sort(july.property_type.unique())\n",
    "neighbs = np.sort(july.neighborhood.unique())\n",
    "rooms = np.sort(july.room_type.unique())\n",
    "bors = np.sort(july.borough.unique())\n",
    "\n",
    "sorted_arrays = [properties, neighbs, rooms, bors]\n",
    "\n",
    "#uncomment below to save to pickle\n",
    "# filename = 'sorted_arrays.pk'\n",
    "# with open(filename, 'wb') as file:\n",
    "#    pickle.dump(sorted_arrays, file)"
   ]
  },
  {
   "cell_type": "code",
   "execution_count": 7,
   "metadata": {
    "collapsed": true
   },
   "outputs": [],
   "source": [
    "#setting up arrays that will be put together at the end to make X for prediction\n",
    "property_types = np.zeros((10, len(july.property_type.unique())-1))\n",
    "neighborhoods = np.zeros((10, len(july.neighborhood.unique())-1))\n",
    "boroughs = np.zeros((10, len(july.borough.unique())-1))\n",
    "room_types = np.zeros((10, len(july.room_type.unique())-1))\n",
    "\n",
    "feature_arrays = [property_types, neighborhoods, boroughs, room_types]\n",
    "\n",
    "#uncomment below to save to pickle\n",
    "filename = 'feature_arrays.pk'\n",
    "with open(filename, 'wb') as file:\n",
    "    pickle.dump(feature_arrays, file)"
   ]
  },
  {
   "cell_type": "code",
   "execution_count": 8,
   "metadata": {},
   "outputs": [],
   "source": [
    "#define functions\n",
    "\n",
    "def set_property(prop_in):\n",
    "    props = np.searchsorted(properties, prop_in)\n",
    "\n",
    "    if props != 0:\n",
    "        for i in range(10):\n",
    "            property_types[i][props-1] = 1\n",
    "        \n",
    "def set_neighborhood(neighb_in):\n",
    "    neighb = np.searchsorted(neighbs, neighb_in)\n",
    "\n",
    "    if neighb != 0:\n",
    "        for i in range(10):\n",
    "            neighborhoods[i][neighb-1] = 1\n",
    "        \n",
    "def set_borough(borough_in):\n",
    "    bor = np.searchsorted(bors, borough_in)\n",
    "\n",
    "    if bor != 0:\n",
    "        for i in range(10):\n",
    "            boroughs[i][bor-1] = 1\n",
    "\n",
    "def set_room(room_in):\n",
    "    room = np.searchsorted(rooms, room_in)\n",
    "\n",
    "    if room != 0:\n",
    "        for i in range(10):\n",
    "            room_types[i][room-1] = 1\n",
    "\n",
    "def build_numerical(beds_in, accom_in):\n",
    "    array = np.zeros((10,4))\n",
    "    for i in range(10):\n",
    "        array[i][3] = int(accom_in) #accomodates\n",
    "        array[i][2] = int(beds_in) #num of beds\n",
    "        array[i][1] = (np.random.rand() * 2) + 3 #rating - generate a number between 3 and 5\n",
    "        array[i][0] = np.random.randint(1, 454) #num of reviews, generate number between 1 and max # of reviews\n",
    "    return array\n",
    "\n",
    "def predict_price(prop, neighb, borough, room, room_num, accom_num):   \n",
    "    set_property(prop)\n",
    "    set_neighborhood(neighb)\n",
    "    set_borough(borough)\n",
    "    set_room(room)\n",
    "    numerical = build_numerical(room_num,accom_num)\n",
    "\n",
    "    features = np.concatenate((numerical, room_types, boroughs, neighborhoods, property_types), 1)\n",
    "    y_pred = loaded_model.predict(features)\n",
    "    print(np.mean(y_pred).round(0))"
   ]
  },
  {
   "cell_type": "code",
   "execution_count": 9,
   "metadata": {
    "collapsed": true
   },
   "outputs": [],
   "source": [
    "#set up input\n",
    "set_property(\"House\")\n",
    "set_neighborhood(\"Brooklyn\")\n",
    "set_borough(\"Park Slope\")\n",
    "set_room(\"Entire home/apt\")\n",
    "numerical = build_numerical(1,4)\n",
    "\n",
    "features = np.concatenate((numerical, room_types, boroughs, neighborhoods, property_types), 1)"
   ]
  },
  {
   "cell_type": "code",
   "execution_count": 11,
   "metadata": {},
   "outputs": [
    {
     "name": "stderr",
     "output_type": "stream",
     "text": [
      "/Users/claireramming/.virtualenvs/retool-cs/lib/python3.7/site-packages/ipykernel_launcher.py:7: FutureWarning: In a future version of pandas all arguments of DataFrame.drop except for the argument 'labels' will be keyword-only\n",
      "  import sys\n"
     ]
    },
    {
     "data": {
      "text/plain": [
       "Pipeline(steps=[('standardscaler', StandardScaler()),\n",
       "                ('elasticnet', ElasticNet())])"
      ]
     },
     "execution_count": 11,
     "metadata": {},
     "output_type": "execute_result"
    }
   ],
   "source": [
    "from sklearn.model_selection import train_test_split\n",
    "from sklearn.linear_model import ElasticNet\n",
    "from sklearn.pipeline import make_pipeline\n",
    "\n",
    "july = july[july.overall_satisfaction >= 3]\n",
    "july_y = july.price\n",
    "july_dumb = july.drop('price',1)\n",
    "july_x = pd.get_dummies(july_dumb, drop_first=True)\n",
    "\n",
    "# Split the data into a training and test set.\n",
    "Xlr, Xtestlr, ylr, ytestlr = train_test_split(july_x, july_y, test_size=.3, random_state=50)\n",
    "\n",
    "scaler = preprocessing.StandardScaler()\n",
    "#X_train = scaler.fit_transform(Xlr)\n",
    "\n",
    "elnet = ElasticNet()\n",
    "\n",
    "pipe = make_pipeline(scaler, elnet)\n",
    "\n",
    "# Fit the model on the trainng data.\n",
    "pipe.fit(Xlr, ylr)"
   ]
  },
  {
   "cell_type": "code",
   "execution_count": 13,
   "metadata": {
    "collapsed": true
   },
   "outputs": [],
   "source": [
    "def predict_price(prop, neighb, borough, room, room_num, accom_num):   \n",
    "    set_property(prop)\n",
    "    set_neighborhood(neighb)\n",
    "    set_borough(borough)\n",
    "    set_room(room)\n",
    "    numerical = build_numerical(room_num,accom_num)\n",
    "\n",
    "    features = np.concatenate((numerical, room_types, boroughs, neighborhoods, property_types), 1)\n",
    "    y_pred = loaded_model.predict(features)\n",
    "    average = np.mean(y_pred).round(0)\n",
    "    return average"
   ]
  },
  {
   "cell_type": "code",
   "execution_count": 22,
   "metadata": {},
   "outputs": [
    {
     "name": "stderr",
     "output_type": "stream",
     "text": [
      "/Users/claireramming/.virtualenvs/retool-cs/lib/python3.7/site-packages/sklearn/base.py:442: UserWarning: X does not have valid feature names, but StandardScaler was fitted with feature names\n",
      "  \"X does not have valid feature names, but\"\n"
     ]
    },
    {
     "data": {
      "text/plain": [
       "153.0"
      ]
     },
     "execution_count": 22,
     "metadata": {},
     "output_type": "execute_result"
    }
   ],
   "source": [
    "predict_price(\"Apartment\", \"Brooklyn\", \"Park Slope\", \"Entire home/apt\", 1, 4)"
   ]
  },
  {
   "cell_type": "code",
   "execution_count": 23,
   "metadata": {
    "collapsed": true
   },
   "outputs": [],
   "source": [
    "#html widget, try bokeh, holoviews, plotly, shiny \n",
    "#residuals"
   ]
  },
  {
   "cell_type": "code",
   "execution_count": null,
   "metadata": {
    "collapsed": true
   },
   "outputs": [],
   "source": [
    "tup =[(neighb, neighb) for neighb in july.neighborhood.unique()]"
   ]
  },
  {
   "cell_type": "code",
   "execution_count": null,
   "metadata": {},
   "outputs": [],
   "source": [
    "tup"
   ]
  },
  {
   "cell_type": "code",
   "execution_count": 19,
   "metadata": {},
   "outputs": [],
   "source": [
    "#save to pickle\n",
    "filename = './pickled/model_v1.pk'\n",
    "\n",
    "with open(filename, 'wb') as file:\n",
    "    pickle.dump(pipe, file)"
   ]
  },
  {
   "cell_type": "code",
   "execution_count": 20,
   "metadata": {},
   "outputs": [],
   "source": [
    "#open from pickle (moved to 'functions' folder after saving)\n",
    "filename = 'pickled/model_v1.pk'\n",
    "with open(filename ,'rb') as f:\n",
    "    loaded_model = pickle.load(f)"
   ]
  },
  {
   "cell_type": "code",
   "execution_count": 6,
   "metadata": {},
   "outputs": [],
   "source": [
    "filename = 'functions/sorted_arrays.pk'\n",
    "with open(filename ,'rb') as f:\n",
    "    sorted_arrays = pickle.load(f)"
   ]
  },
  {
   "cell_type": "code",
   "execution_count": 7,
   "metadata": {
    "collapsed": true
   },
   "outputs": [],
   "source": [
    "filename = 'functions/feature_arrays.pk'\n",
    "with open(filename ,'rb') as f:\n",
    "    feature_arrays = pickle.load(f)"
   ]
  },
  {
   "cell_type": "code",
   "execution_count": 1,
   "metadata": {
    "collapsed": true
   },
   "outputs": [],
   "source": [
    "import pandas as pd\n",
    "import matplotlib.pyplot as plt\n",
    "import numpy as np\n",
    "import seaborn as sns\n",
    "import scipy\n",
    "from sklearn import preprocessing\n",
    "from sklearn.linear_model import LinearRegression\n",
    "import dill as pickle\n",
    "%matplotlib inline"
   ]
  },
  {
   "cell_type": "code",
   "execution_count": 8,
   "metadata": {},
   "outputs": [],
   "source": [
    "#initialize objects from pickled files\n",
    "\n",
    "#sorted arrays\n",
    "properties = sorted_arrays[0]\n",
    "neighbs = sorted_arrays[1]\n",
    "rooms = sorted_arrays[2]\n",
    "bors = sorted_arrays[3]\n",
    "\n",
    "#feature arrays\n",
    "property_types = feature_arrays[0]\n",
    "neighborhoods = feature_arrays[1]\n",
    "boroughs = feature_arrays[2]\n",
    "room_types = feature_arrays[3]"
   ]
  },
  {
   "cell_type": "code",
   "execution_count": null,
   "metadata": {
    "collapsed": true
   },
   "outputs": [],
   "source": []
  }
 ],
 "metadata": {
  "interpreter": {
   "hash": "8ed1ba343a75c8f551894bc13ff545ce8bbdd92e715e9240fc2d23b488074849"
  },
  "kernelspec": {
   "display_name": "Python 3.7.3 64-bit ('retool-cs': virtualenv)",
   "name": "python3"
  },
  "language_info": {
   "codemirror_mode": {
    "name": "ipython",
    "version": 3
   },
   "file_extension": ".py",
   "mimetype": "text/x-python",
   "name": "python",
   "nbconvert_exporter": "python",
   "pygments_lexer": "ipython3",
   "version": "3.7.3"
  }
 },
 "nbformat": 4,
 "nbformat_minor": 2
}
