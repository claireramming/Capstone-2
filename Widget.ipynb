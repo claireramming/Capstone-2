{
 "cells": [
  {
   "cell_type": "markdown",
   "metadata": {},
   "source": [
    "get as many metrics as possible, require neighborhood, # rooms, etc, take random ratings and rating numbers a few times and find a range via the predictions. \n",
    "\n",
    "categories are put in alphabetical order, then the first one is dropped. \n"
   ]
  },
  {
   "cell_type": "code",
   "execution_count": 8,
   "metadata": {},
   "outputs": [
    {
     "data": {
      "text/html": [
       "<div>\n",
       "<style>\n",
       "    .dataframe thead tr:only-child th {\n",
       "        text-align: right;\n",
       "    }\n",
       "\n",
       "    .dataframe thead th {\n",
       "        text-align: left;\n",
       "    }\n",
       "\n",
       "    .dataframe tbody tr th {\n",
       "        vertical-align: top;\n",
       "    }\n",
       "</style>\n",
       "<table border=\"1\" class=\"dataframe\">\n",
       "  <thead>\n",
       "    <tr style=\"text-align: right;\">\n",
       "      <th></th>\n",
       "      <th>room_type</th>\n",
       "      <th>borough</th>\n",
       "      <th>neighborhood</th>\n",
       "      <th>reviews</th>\n",
       "      <th>overall_satisfaction</th>\n",
       "      <th>accommodates</th>\n",
       "      <th>bedrooms</th>\n",
       "      <th>price</th>\n",
       "      <th>property_type</th>\n",
       "    </tr>\n",
       "  </thead>\n",
       "  <tbody>\n",
       "    <tr>\n",
       "      <th>0</th>\n",
       "      <td>Shared room</td>\n",
       "      <td>Queens</td>\n",
       "      <td>Jackson Heights</td>\n",
       "      <td>6</td>\n",
       "      <td>5.0</td>\n",
       "      <td>4</td>\n",
       "      <td>1.0</td>\n",
       "      <td>85.0</td>\n",
       "      <td>House</td>\n",
       "    </tr>\n",
       "    <tr>\n",
       "      <th>1</th>\n",
       "      <td>Shared room</td>\n",
       "      <td>Brooklyn</td>\n",
       "      <td>Cypress Hills</td>\n",
       "      <td>14</td>\n",
       "      <td>4.0</td>\n",
       "      <td>6</td>\n",
       "      <td>1.0</td>\n",
       "      <td>90.0</td>\n",
       "      <td>House</td>\n",
       "    </tr>\n",
       "    <tr>\n",
       "      <th>2</th>\n",
       "      <td>Shared room</td>\n",
       "      <td>Brooklyn</td>\n",
       "      <td>Sheepshead Bay</td>\n",
       "      <td>3</td>\n",
       "      <td>4.5</td>\n",
       "      <td>6</td>\n",
       "      <td>1.0</td>\n",
       "      <td>239.0</td>\n",
       "      <td>Apartment</td>\n",
       "    </tr>\n",
       "    <tr>\n",
       "      <th>3</th>\n",
       "      <td>Shared room</td>\n",
       "      <td>Manhattan</td>\n",
       "      <td>Hell's Kitchen</td>\n",
       "      <td>35</td>\n",
       "      <td>5.0</td>\n",
       "      <td>2</td>\n",
       "      <td>1.0</td>\n",
       "      <td>165.0</td>\n",
       "      <td>Apartment</td>\n",
       "    </tr>\n",
       "    <tr>\n",
       "      <th>7</th>\n",
       "      <td>Shared room</td>\n",
       "      <td>Manhattan</td>\n",
       "      <td>Harlem</td>\n",
       "      <td>8</td>\n",
       "      <td>5.0</td>\n",
       "      <td>2</td>\n",
       "      <td>1.0</td>\n",
       "      <td>110.0</td>\n",
       "      <td>Apartment</td>\n",
       "    </tr>\n",
       "  </tbody>\n",
       "</table>\n",
       "</div>"
      ],
      "text/plain": [
       "     room_type    borough     neighborhood  reviews  overall_satisfaction  \\\n",
       "0  Shared room     Queens  Jackson Heights        6                   5.0   \n",
       "1  Shared room   Brooklyn    Cypress Hills       14                   4.0   \n",
       "2  Shared room   Brooklyn   Sheepshead Bay        3                   4.5   \n",
       "3  Shared room  Manhattan   Hell's Kitchen       35                   5.0   \n",
       "7  Shared room  Manhattan           Harlem        8                   5.0   \n",
       "\n",
       "   accommodates  bedrooms  price property_type  \n",
       "0             4       1.0   85.0         House  \n",
       "1             6       1.0   90.0         House  \n",
       "2             6       1.0  239.0     Apartment  \n",
       "3             2       1.0  165.0     Apartment  \n",
       "7             2       1.0  110.0     Apartment  "
      ]
     },
     "execution_count": 8,
     "metadata": {},
     "output_type": "execute_result"
    }
   ],
   "source": [
    "import pandas as pd\n",
    "import matplotlib.pyplot as plt\n",
    "import numpy as np\n",
    "import seaborn as sns\n",
    "import scipy\n",
    "from sklearn import preprocessing\n",
    "from sklearn.linear_model import LinearRegression\n",
    "%matplotlib inline\n",
    "\n",
    "july = pd.read_csv('tomslee_airbnb_new_york_1438_2017-07-12.csv')\n",
    "july = july.drop(['room_id','survey_id', 'host_id', 'country', 'city', 'bathrooms', 'minstay', 'last_modified', 'location', 'name', 'latitude', 'longitude'], 1)\n",
    "#remove listings we already know are outliers (price greater than 500 and rooms at 50)\n",
    "july = july[(july.price < 500) & (july.bedrooms < 50) & (july.overall_satisfaction >= 3)]\n",
    "july = july[july.bedrooms < 50]\n",
    "july.head()"
   ]
  },
  {
   "cell_type": "code",
   "execution_count": 2,
   "metadata": {},
   "outputs": [
    {
     "data": {
      "text/plain": [
       "array(['Shared room', 'Entire home/apt', 'Private room'], dtype=object)"
      ]
     },
     "execution_count": 2,
     "metadata": {},
     "output_type": "execute_result"
    }
   ],
   "source": [
    "july.room_type.unique()"
   ]
  },
  {
   "cell_type": "code",
   "execution_count": 4,
   "metadata": {},
   "outputs": [
    {
     "data": {
      "text/plain": [
       "Apartment             19814\n",
       "House                  2372\n",
       "Loft                    503\n",
       "Townhouse               410\n",
       "Condominium             221\n",
       "Other                   100\n",
       "Bed & Breakfast          96\n",
       "Guesthouse               32\n",
       "Hostel                   15\n",
       "Villa                    14\n",
       "Guest suite              13\n",
       "Dorm                     12\n",
       "Bungalow                 11\n",
       "Boutique hotel            8\n",
       "Timeshare                 6\n",
       "Boat                      4\n",
       "Cabin                     3\n",
       "Camper/RV                 2\n",
       "Chalet                    2\n",
       "Serviced apartment        2\n",
       "In-law                    2\n",
       "Vacation home             2\n",
       "Casa particular           1\n",
       "Earth House               1\n",
       "Castle                    1\n",
       "Name: property_type, dtype: int64"
      ]
     },
     "execution_count": 4,
     "metadata": {},
     "output_type": "execute_result"
    }
   ],
   "source": [
    "july.property_type.value_counts()"
   ]
  },
  {
   "cell_type": "code",
   "execution_count": 10,
   "metadata": {},
   "outputs": [],
   "source": [
    "prop_dict = {}\n",
    "for prop_type in july.property_type.unique():\n",
    "    prop_dict[prop_type] = 'Other'"
   ]
  },
  {
   "cell_type": "code",
   "execution_count": 12,
   "metadata": {},
   "outputs": [
    {
     "data": {
      "text/plain": [
       "{'Apartment': 'Apartment',\n",
       " 'Bed & Breakfast': 'Bed & Breakfast',\n",
       " 'Boat': 'Other',\n",
       " 'Boutique hotel': 'Other',\n",
       " 'Bungalow': 'Other',\n",
       " 'Cabin': 'Other',\n",
       " 'Camper/RV': 'Other',\n",
       " 'Casa particular': 'Bed & Breakfast',\n",
       " 'Castle': 'Other',\n",
       " 'Chalet': 'Other',\n",
       " 'Condominium': 'Condominium',\n",
       " 'Dorm': 'Other',\n",
       " 'Earth House': 'Other',\n",
       " 'Guest suite': 'Other',\n",
       " 'Guesthouse': 'Other',\n",
       " 'Hostel': 'Other',\n",
       " 'House': 'House',\n",
       " 'In-law': 'Other',\n",
       " 'Loft': 'Loft',\n",
       " 'Other': 'Other',\n",
       " 'Serviced Apartment': 'Apartment',\n",
       " 'Serviced apartment': 'Other',\n",
       " 'Timeshare': 'Other',\n",
       " 'Townhouse': 'Townhouse',\n",
       " 'Vacation home': 'Other',\n",
       " 'Villa': 'Other'}"
      ]
     },
     "execution_count": 12,
     "metadata": {},
     "output_type": "execute_result"
    }
   ],
   "source": [
    "prop_dict = {}\n",
    "for prop_type in july.property_type.unique():\n",
    "    prop_dict[prop_type] = 'Other'\n",
    "\n",
    "prop_dict['Apartment'] = 'Apartment'\n",
    "prop_dict['Bed & Breakfast'] = 'Bed & Breakfast'\n",
    "prop_dict['Serviced Apartment'] = 'Apartment'\n",
    "prop_dict['Casa particular'] = 'Bed & Breakfast'\n",
    "prop_dict['Loft'] = 'Loft'\n",
    "prop_dict['Townhouse'] = 'Townhouse'\n",
    "prop_dict['Condominium'] = 'Condominium'\n",
    "prop_dict['House'] = 'House'\n",
    "\n",
    "july.property_type.replace(prop_dict, inplace=True)"
   ]
  },
  {
   "cell_type": "code",
   "execution_count": 33,
   "metadata": {},
   "outputs": [],
   "source": [
    "#setting up sorted arrays so position is easy to find\n",
    "properties = np.sort(july.property_type.unique())\n",
    "neighbs = np.sort(july.neighborhood.unique())\n",
    "rooms = np.sort(july.room_type.unique())\n",
    "bors = np.sort(july.borough.unique())"
   ]
  },
  {
   "cell_type": "code",
   "execution_count": 22,
   "metadata": {},
   "outputs": [],
   "source": [
    "#setting up arrays that will be put together at the end to make X for prediction\n",
    "property_types = np.zeros((1, len(july.property_type.unique())-1))\n",
    "neighborhoods = np.zeros((1, len(july.neighborhood.unique())-1))\n",
    "boroughs = np.zeros((1, len(july.borough.unique())-1))\n",
    "room_types = np.zeros((1, len(july.room_type.unique())-1))\n",
    "numerical = np.zeros((1, 4))"
   ]
  },
  {
   "cell_type": "code",
   "execution_count": null,
   "metadata": {
    "collapsed": true
   },
   "outputs": [],
   "source": [
    "max_reviews = july.reviews.max()\n",
    "\n",
    "def set_property(prop_in)\n",
    "    props = np.searchsorted(properties, prop_in)\n",
    "\n",
    "    if props != 0:\n",
    "        property_types[props-1] = 1\n",
    "        \n",
    "def set_neighborhood(neighb_in)\n",
    "    neighb = np.searchsorted(neighbs, neighb_in)\n",
    "\n",
    "    if neighb != 0:\n",
    "        neighborhoods[neighb-1] = 1\n",
    "        \n",
    "def set_borough(borough_in)\n",
    "    bor = np.searchsorted(bors, borough_in)\n",
    "\n",
    "    if bor != 0:\n",
    "        boroughs[bor-1] = 1\n",
    "\n",
    "def set_room(room_in)\n",
    "    room = np.searchsorted(rooms, room_in)\n",
    "\n",
    "    if room != 0:\n",
    "        room_types[room-1] = 1\n",
    "\n",
    "def build_numerical(array, beds_in, accom_in, max_reviews):\n",
    "    array[3] = accom_in #accomodates\n",
    "    array[2] = beds_in #num of beds\n",
    "    array[1] = (np.random.rand * 2) + 3 #rating - generate a number between 3 and 5\n",
    "    array[0] = np.random.random_integers(1, max_reviews) #num of reviews, generate number between 1 and max # of reviews\n",
    "        \n",
    "categories = concatenate((numerical, room_types, boroughs, neighborhoods, property_types))"
   ]
  }
 ],
 "metadata": {
  "kernelspec": {
   "display_name": "Python 3",
   "language": "python",
   "name": "python3"
  },
  "language_info": {
   "codemirror_mode": {
    "name": "ipython",
    "version": 3
   },
   "file_extension": ".py",
   "mimetype": "text/x-python",
   "name": "python",
   "nbconvert_exporter": "python",
   "pygments_lexer": "ipython3",
   "version": "3.6.1"
  }
 },
 "nbformat": 4,
 "nbformat_minor": 2
}
