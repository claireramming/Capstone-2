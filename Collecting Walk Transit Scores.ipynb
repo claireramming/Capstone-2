{
 "cells": [
  {
   "cell_type": "code",
   "execution_count": 22,
   "metadata": {},
   "outputs": [],
   "source": [
    "from geopy.geocoders import GoogleV3, Nominatim\n",
    "import pandas as pd\n",
    "import numpy as np\n",
    "APIKEY = f1f982b9305a4144d1af189aae4307a5\n",
    "geolocator = GoogleV3()\n",
    "july = pd.read_csv('tomslee_airbnb_new_york_1438_2017-07-12.csv')"
   ]
  },
  {
   "cell_type": "code",
   "execution_count": 11,
   "metadata": {},
   "outputs": [
    {
     "data": {
      "text/html": [
       "<div>\n",
       "<style>\n",
       "    .dataframe thead tr:only-child th {\n",
       "        text-align: right;\n",
       "    }\n",
       "\n",
       "    .dataframe thead th {\n",
       "        text-align: left;\n",
       "    }\n",
       "\n",
       "    .dataframe tbody tr th {\n",
       "        vertical-align: top;\n",
       "    }\n",
       "</style>\n",
       "<table border=\"1\" class=\"dataframe\">\n",
       "  <thead>\n",
       "    <tr style=\"text-align: right;\">\n",
       "      <th></th>\n",
       "      <th>room_id</th>\n",
       "      <th>survey_id</th>\n",
       "      <th>host_id</th>\n",
       "      <th>room_type</th>\n",
       "      <th>country</th>\n",
       "      <th>city</th>\n",
       "      <th>borough</th>\n",
       "      <th>neighborhood</th>\n",
       "      <th>reviews</th>\n",
       "      <th>overall_satisfaction</th>\n",
       "      <th>...</th>\n",
       "      <th>bedrooms</th>\n",
       "      <th>bathrooms</th>\n",
       "      <th>price</th>\n",
       "      <th>minstay</th>\n",
       "      <th>name</th>\n",
       "      <th>property_type</th>\n",
       "      <th>last_modified</th>\n",
       "      <th>latitude</th>\n",
       "      <th>longitude</th>\n",
       "      <th>location</th>\n",
       "    </tr>\n",
       "  </thead>\n",
       "  <tbody>\n",
       "    <tr>\n",
       "      <th>0</th>\n",
       "      <td>7739955</td>\n",
       "      <td>1438</td>\n",
       "      <td>38614070</td>\n",
       "      <td>Shared room</td>\n",
       "      <td>NaN</td>\n",
       "      <td>New York</td>\n",
       "      <td>Queens</td>\n",
       "      <td>Jackson Heights</td>\n",
       "      <td>6</td>\n",
       "      <td>5.0</td>\n",
       "      <td>...</td>\n",
       "      <td>1.0</td>\n",
       "      <td>NaN</td>\n",
       "      <td>85.0</td>\n",
       "      <td>NaN</td>\n",
       "      <td>Room TO SHARE by DAY,week,month</td>\n",
       "      <td>House</td>\n",
       "      <td>2017-07-15 21:30:31.858764</td>\n",
       "      <td>40.749909</td>\n",
       "      <td>-73.876880</td>\n",
       "      <td>0101000020E61000000EA14ACD1E7852C0F0FCA204FD5F...</td>\n",
       "    </tr>\n",
       "    <tr>\n",
       "      <th>1</th>\n",
       "      <td>7383173</td>\n",
       "      <td>1438</td>\n",
       "      <td>32628813</td>\n",
       "      <td>Shared room</td>\n",
       "      <td>NaN</td>\n",
       "      <td>New York</td>\n",
       "      <td>Brooklyn</td>\n",
       "      <td>Cypress Hills</td>\n",
       "      <td>14</td>\n",
       "      <td>4.0</td>\n",
       "      <td>...</td>\n",
       "      <td>1.0</td>\n",
       "      <td>NaN</td>\n",
       "      <td>90.0</td>\n",
       "      <td>NaN</td>\n",
       "      <td>Spacious Room: Close to Manhattan</td>\n",
       "      <td>House</td>\n",
       "      <td>2017-07-15 21:30:30.332828</td>\n",
       "      <td>40.678527</td>\n",
       "      <td>-73.889584</td>\n",
       "      <td>0101000020E6100000DFC2BAF1EE7852C0FC3905F9D956...</td>\n",
       "    </tr>\n",
       "    <tr>\n",
       "      <th>2</th>\n",
       "      <td>10250852</td>\n",
       "      <td>1438</td>\n",
       "      <td>35553123</td>\n",
       "      <td>Shared room</td>\n",
       "      <td>NaN</td>\n",
       "      <td>New York</td>\n",
       "      <td>Brooklyn</td>\n",
       "      <td>Sheepshead Bay</td>\n",
       "      <td>3</td>\n",
       "      <td>4.5</td>\n",
       "      <td>...</td>\n",
       "      <td>1.0</td>\n",
       "      <td>NaN</td>\n",
       "      <td>239.0</td>\n",
       "      <td>NaN</td>\n",
       "      <td>COZY COUCH</td>\n",
       "      <td>Apartment</td>\n",
       "      <td>2017-07-15 21:30:23.607950</td>\n",
       "      <td>40.583041</td>\n",
       "      <td>-73.957976</td>\n",
       "      <td>0101000020E61000009696917A4F7D52C0139D6516A14A...</td>\n",
       "    </tr>\n",
       "    <tr>\n",
       "      <th>3</th>\n",
       "      <td>2188359</td>\n",
       "      <td>1438</td>\n",
       "      <td>5029659</td>\n",
       "      <td>Shared room</td>\n",
       "      <td>NaN</td>\n",
       "      <td>New York</td>\n",
       "      <td>Manhattan</td>\n",
       "      <td>Hell's Kitchen</td>\n",
       "      <td>35</td>\n",
       "      <td>5.0</td>\n",
       "      <td>...</td>\n",
       "      <td>1.0</td>\n",
       "      <td>NaN</td>\n",
       "      <td>165.0</td>\n",
       "      <td>NaN</td>\n",
       "      <td>1 Bdrm Apt 1 Block from Times Sq.</td>\n",
       "      <td>Apartment</td>\n",
       "      <td>2017-07-15 21:30:21.832749</td>\n",
       "      <td>40.758374</td>\n",
       "      <td>-73.991955</td>\n",
       "      <td>0101000020E6100000A306D3307C7F52C0801134661261...</td>\n",
       "    </tr>\n",
       "    <tr>\n",
       "      <th>4</th>\n",
       "      <td>19661354</td>\n",
       "      <td>1438</td>\n",
       "      <td>70038324</td>\n",
       "      <td>Shared room</td>\n",
       "      <td>NaN</td>\n",
       "      <td>New York</td>\n",
       "      <td>Manhattan</td>\n",
       "      <td>Upper East Side</td>\n",
       "      <td>0</td>\n",
       "      <td>0.0</td>\n",
       "      <td>...</td>\n",
       "      <td>1.0</td>\n",
       "      <td>NaN</td>\n",
       "      <td>159.0</td>\n",
       "      <td>NaN</td>\n",
       "      <td>NYC Upper East / Midtown East Luxury 1BR</td>\n",
       "      <td>Apartment</td>\n",
       "      <td>2017-07-15 21:30:19.986579</td>\n",
       "      <td>40.761960</td>\n",
       "      <td>-73.959733</td>\n",
       "      <td>0101000020E610000016F9F5436C7D52C01A6EC0E78761...</td>\n",
       "    </tr>\n",
       "  </tbody>\n",
       "</table>\n",
       "<p>5 rows × 21 columns</p>\n",
       "</div>"
      ],
      "text/plain": [
       "    room_id  survey_id   host_id    room_type  country      city    borough  \\\n",
       "0   7739955       1438  38614070  Shared room      NaN  New York     Queens   \n",
       "1   7383173       1438  32628813  Shared room      NaN  New York   Brooklyn   \n",
       "2  10250852       1438  35553123  Shared room      NaN  New York   Brooklyn   \n",
       "3   2188359       1438   5029659  Shared room      NaN  New York  Manhattan   \n",
       "4  19661354       1438  70038324  Shared room      NaN  New York  Manhattan   \n",
       "\n",
       "      neighborhood  reviews  overall_satisfaction  \\\n",
       "0  Jackson Heights        6                   5.0   \n",
       "1    Cypress Hills       14                   4.0   \n",
       "2   Sheepshead Bay        3                   4.5   \n",
       "3   Hell's Kitchen       35                   5.0   \n",
       "4  Upper East Side        0                   0.0   \n",
       "\n",
       "                         ...                          bedrooms  bathrooms  \\\n",
       "0                        ...                               1.0        NaN   \n",
       "1                        ...                               1.0        NaN   \n",
       "2                        ...                               1.0        NaN   \n",
       "3                        ...                               1.0        NaN   \n",
       "4                        ...                               1.0        NaN   \n",
       "\n",
       "   price  minstay                                      name property_type  \\\n",
       "0   85.0      NaN           Room TO SHARE by DAY,week,month         House   \n",
       "1   90.0      NaN         Spacious Room: Close to Manhattan         House   \n",
       "2  239.0      NaN                                COZY COUCH     Apartment   \n",
       "3  165.0      NaN         1 Bdrm Apt 1 Block from Times Sq.     Apartment   \n",
       "4  159.0      NaN  NYC Upper East / Midtown East Luxury 1BR     Apartment   \n",
       "\n",
       "                last_modified   latitude  longitude  \\\n",
       "0  2017-07-15 21:30:31.858764  40.749909 -73.876880   \n",
       "1  2017-07-15 21:30:30.332828  40.678527 -73.889584   \n",
       "2  2017-07-15 21:30:23.607950  40.583041 -73.957976   \n",
       "3  2017-07-15 21:30:21.832749  40.758374 -73.991955   \n",
       "4  2017-07-15 21:30:19.986579  40.761960 -73.959733   \n",
       "\n",
       "                                            location  \n",
       "0  0101000020E61000000EA14ACD1E7852C0F0FCA204FD5F...  \n",
       "1  0101000020E6100000DFC2BAF1EE7852C0FC3905F9D956...  \n",
       "2  0101000020E61000009696917A4F7D52C0139D6516A14A...  \n",
       "3  0101000020E6100000A306D3307C7F52C0801134661261...  \n",
       "4  0101000020E610000016F9F5436C7D52C01A6EC0E78761...  \n",
       "\n",
       "[5 rows x 21 columns]"
      ]
     },
     "execution_count": 11,
     "metadata": {},
     "output_type": "execute_result"
    }
   ],
   "source": [
    "july.head()"
   ]
  },
  {
   "cell_type": "code",
   "execution_count": 29,
   "metadata": {},
   "outputs": [
    {
     "name": "stdout",
     "output_type": "stream",
     "text": [
      "37-18-37-20 90th St, Jackson Heights, NY 11372, USA\n"
     ]
    }
   ],
   "source": [
    "latlon_string = str(july.latitude[0]) + ', ' + str(july.longitude[0])\n",
    "location = geolocator.reverse(latlon_string, exactly_one=True)\n",
    "print(location)"
   ]
  },
  {
   "cell_type": "code",
   "execution_count": 20,
   "metadata": {},
   "outputs": [
    {
     "data": {
      "text/plain": [
       "'40.749909, -73.87688'"
      ]
     },
     "execution_count": 20,
     "metadata": {},
     "output_type": "execute_result"
    }
   ],
   "source": [
    "latlon_string"
   ]
  },
  {
   "cell_type": "code",
   "execution_count": 32,
   "metadata": {},
   "outputs": [
    {
     "ename": "AttributeError",
     "evalue": "module 'string' has no attribute 'strip'",
     "output_type": "error",
     "traceback": [
      "\u001b[0;31m---------------------------------------------------------------------------\u001b[0m",
      "\u001b[0;31mAttributeError\u001b[0m                            Traceback (most recent call last)",
      "\u001b[0;32m<ipython-input-32-117ddcb1c940>\u001b[0m in \u001b[0;36m<module>\u001b[0;34m()\u001b[0m\n\u001b[1;32m      1\u001b[0m \u001b[0;32mimport\u001b[0m \u001b[0mstring\u001b[0m \u001b[0;32mas\u001b[0m \u001b[0mst\u001b[0m\u001b[0;34m\u001b[0m\u001b[0m\n\u001b[0;32m----> 2\u001b[0;31m \u001b[0mst\u001b[0m\u001b[0;34m.\u001b[0m\u001b[0mstrip\u001b[0m\u001b[0;34m(\u001b[0m\u001b[0mlocation\u001b[0m\u001b[0;34m,\u001b[0m \u001b[0;34m','\u001b[0m\u001b[0;34m)\u001b[0m\u001b[0;34m\u001b[0m\u001b[0m\n\u001b[0m\u001b[1;32m      3\u001b[0m \u001b[0mprint\u001b[0m\u001b[0;34m(\u001b[0m\u001b[0mlocation\u001b[0m\u001b[0;34m)\u001b[0m\u001b[0;34m\u001b[0m\u001b[0m\n",
      "\u001b[0;31mAttributeError\u001b[0m: module 'string' has no attribute 'strip'"
     ]
    }
   ],
   "source": [
    "import string as st\n",
    "st.strip(location, ',')\n",
    "print(location)"
   ]
  },
  {
   "cell_type": "code",
   "execution_count": 27,
   "metadata": {},
   "outputs": [
    {
     "data": {
      "text/plain": [
       "40.74988035"
      ]
     },
     "execution_count": 27,
     "metadata": {},
     "output_type": "execute_result"
    }
   ],
   "source": [
    "location.latitude"
   ]
  },
  {
   "cell_type": "code",
   "execution_count": 28,
   "metadata": {},
   "outputs": [
    {
     "data": {
      "text/plain": [
       "-73.8770372978044"
      ]
     },
     "execution_count": 28,
     "metadata": {},
     "output_type": "execute_result"
    }
   ],
   "source": [
    "location.longitude"
   ]
  },
  {
   "cell_type": "code",
   "execution_count": null,
   "metadata": {
    "collapsed": true
   },
   "outputs": [],
   "source": [
    "'http://api.walkscore.com/score?format=json&address=' , 1119%8th%20Avenue%20Seattle%20WA%2098101'&lat=' , july.latitutde, \n",
    "'&lon=', july.longitude, '&transit=1&bike=1&wsapikey=', APIKEY"
   ]
  }
 ],
 "metadata": {
  "kernelspec": {
   "display_name": "Python 3",
   "language": "python",
   "name": "python3"
  },
  "language_info": {
   "codemirror_mode": {
    "name": "ipython",
    "version": 3
   },
   "file_extension": ".py",
   "mimetype": "text/x-python",
   "name": "python",
   "nbconvert_exporter": "python",
   "pygments_lexer": "ipython3",
   "version": "3.6.1"
  }
 },
 "nbformat": 4,
 "nbformat_minor": 2
}
