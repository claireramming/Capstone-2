{
 "cells": [
  {
   "cell_type": "code",
   "execution_count": 14,
   "metadata": {},
   "outputs": [
    {
     "data": {
      "text/html": [
       "<div>\n",
       "<style>\n",
       "    .dataframe thead tr:only-child th {\n",
       "        text-align: right;\n",
       "    }\n",
       "\n",
       "    .dataframe thead th {\n",
       "        text-align: left;\n",
       "    }\n",
       "\n",
       "    .dataframe tbody tr th {\n",
       "        vertical-align: top;\n",
       "    }\n",
       "</style>\n",
       "<table border=\"1\" class=\"dataframe\">\n",
       "  <thead>\n",
       "    <tr style=\"text-align: right;\">\n",
       "      <th></th>\n",
       "      <th>room_type</th>\n",
       "      <th>borough</th>\n",
       "      <th>neighborhood</th>\n",
       "      <th>reviews</th>\n",
       "      <th>overall_satisfaction</th>\n",
       "      <th>accommodates</th>\n",
       "      <th>bedrooms</th>\n",
       "      <th>price</th>\n",
       "      <th>property_type</th>\n",
       "      <th>latitude</th>\n",
       "      <th>longitude</th>\n",
       "    </tr>\n",
       "  </thead>\n",
       "  <tbody>\n",
       "    <tr>\n",
       "      <th>0</th>\n",
       "      <td>Shared room</td>\n",
       "      <td>Queens</td>\n",
       "      <td>Jackson Heights</td>\n",
       "      <td>6</td>\n",
       "      <td>5.0</td>\n",
       "      <td>4</td>\n",
       "      <td>1.0</td>\n",
       "      <td>85.0</td>\n",
       "      <td>House</td>\n",
       "      <td>40.749909</td>\n",
       "      <td>-73.876880</td>\n",
       "    </tr>\n",
       "    <tr>\n",
       "      <th>1</th>\n",
       "      <td>Shared room</td>\n",
       "      <td>Brooklyn</td>\n",
       "      <td>Cypress Hills</td>\n",
       "      <td>14</td>\n",
       "      <td>4.0</td>\n",
       "      <td>6</td>\n",
       "      <td>1.0</td>\n",
       "      <td>90.0</td>\n",
       "      <td>House</td>\n",
       "      <td>40.678527</td>\n",
       "      <td>-73.889584</td>\n",
       "    </tr>\n",
       "    <tr>\n",
       "      <th>2</th>\n",
       "      <td>Shared room</td>\n",
       "      <td>Brooklyn</td>\n",
       "      <td>Sheepshead Bay</td>\n",
       "      <td>3</td>\n",
       "      <td>4.5</td>\n",
       "      <td>6</td>\n",
       "      <td>1.0</td>\n",
       "      <td>239.0</td>\n",
       "      <td>Apartment</td>\n",
       "      <td>40.583041</td>\n",
       "      <td>-73.957976</td>\n",
       "    </tr>\n",
       "    <tr>\n",
       "      <th>3</th>\n",
       "      <td>Shared room</td>\n",
       "      <td>Manhattan</td>\n",
       "      <td>Hell's Kitchen</td>\n",
       "      <td>35</td>\n",
       "      <td>5.0</td>\n",
       "      <td>2</td>\n",
       "      <td>1.0</td>\n",
       "      <td>165.0</td>\n",
       "      <td>Apartment</td>\n",
       "      <td>40.758374</td>\n",
       "      <td>-73.991955</td>\n",
       "    </tr>\n",
       "    <tr>\n",
       "      <th>4</th>\n",
       "      <td>Shared room</td>\n",
       "      <td>Manhattan</td>\n",
       "      <td>Upper East Side</td>\n",
       "      <td>0</td>\n",
       "      <td>0.0</td>\n",
       "      <td>2</td>\n",
       "      <td>1.0</td>\n",
       "      <td>159.0</td>\n",
       "      <td>Apartment</td>\n",
       "      <td>40.761960</td>\n",
       "      <td>-73.959733</td>\n",
       "    </tr>\n",
       "  </tbody>\n",
       "</table>\n",
       "</div>"
      ],
      "text/plain": [
       "     room_type    borough     neighborhood  reviews  overall_satisfaction  \\\n",
       "0  Shared room     Queens  Jackson Heights        6                   5.0   \n",
       "1  Shared room   Brooklyn    Cypress Hills       14                   4.0   \n",
       "2  Shared room   Brooklyn   Sheepshead Bay        3                   4.5   \n",
       "3  Shared room  Manhattan   Hell's Kitchen       35                   5.0   \n",
       "4  Shared room  Manhattan  Upper East Side        0                   0.0   \n",
       "\n",
       "   accommodates  bedrooms  price property_type   latitude  longitude  \n",
       "0             4       1.0   85.0         House  40.749909 -73.876880  \n",
       "1             6       1.0   90.0         House  40.678527 -73.889584  \n",
       "2             6       1.0  239.0     Apartment  40.583041 -73.957976  \n",
       "3             2       1.0  165.0     Apartment  40.758374 -73.991955  \n",
       "4             2       1.0  159.0     Apartment  40.761960 -73.959733  "
      ]
     },
     "execution_count": 14,
     "metadata": {},
     "output_type": "execute_result"
    }
   ],
   "source": [
    "import pandas as pd\n",
    "import matplotlib.pyplot as plt\n",
    "import numpy as np\n",
    "import seaborn as sns\n",
    "import scipy\n",
    "from sklearn import preprocessing\n",
    "from sklearn.ensemble import RandomForestRegressor\n",
    "%matplotlib inline\n",
    "\n",
    "july = pd.read_csv('tomslee_airbnb_new_york_1438_2017-07-12.csv')\n",
    "july = july.drop(['room_id','survey_id', 'host_id', 'country', 'city', 'bathrooms', 'minstay', 'last_modified', 'location', 'name'], 1)\n",
    "july.head()"
   ]
  },
  {
   "cell_type": "code",
   "execution_count": 3,
   "metadata": {
    "collapsed": true
   },
   "outputs": [],
   "source": [
    "july_y = july.price\n",
    "july_x = july.drop('price',1)"
   ]
  },
  {
   "cell_type": "code",
   "execution_count": 15,
   "metadata": {},
   "outputs": [
    {
     "name": "stdout",
     "output_type": "stream",
     "text": [
      "0.220666108381\n"
     ]
    }
   ],
   "source": [
    "from sklearn.model_selection import train_test_split\n",
    "from sklearn.metrics import r2_score\n",
    "\n",
    "Xrf, Xtestrf, yrf, ytestrf = train_test_split(july_x.values, july_y.values, test_size=.3, random_state=42)\n",
    "\n",
    "#estimators = range(10, 300, 10)\n",
    "#r2 = []\n",
    "#for i in estimators:\n",
    "rf = RandomForestRegressor(n_estimators = 100)\n",
    "rf.fit(Xrf, yrf)\n",
    "y_pred = rf.predict(Xtestrf)\n",
    "print(r2_score(ytestrf, y_pred))\n",
    "#r2.append(r2_score(ytestrf, y_pred))\n",
    "#plt.plot(estimators, r2)"
   ]
  },
  {
   "cell_type": "code",
   "execution_count": 21,
   "metadata": {},
   "outputs": [
    {
     "data": {
      "image/png": "[encoded data removed]",
      "text/plain": [
       "<matplotlib.figure.Figure at 0x15c30ca58>"
      ]
     },
     "metadata": {},
     "output_type": "display_data"
    }
   ],
   "source": [
    "y_pred = rf.predict(Xtestrf)\n",
    "plt.ylim( (-50, 1000) )\n",
    "plt.xlim((-50,1000))\n",
    "plt.scatter(x=ytestrf, y=y_pred)\n",
    "plt.show()"
   ]
  },
  {
   "cell_type": "code",
   "execution_count": 19,
   "metadata": {},
   "outputs": [
    {
     "name": "stdout",
     "output_type": "stream",
     "text": [
      "0.220666108381\n"
     ]
    }
   ],
   "source": [
    "print(r2_score(ytestrf, y_pred))"
   ]
  },
  {
   "cell_type": "code",
   "execution_count": null,
   "metadata": {
    "collapsed": true
   },
   "outputs": [],
   "source": []
  }
 ],
 "metadata": {
  "kernelspec": {
   "display_name": "Python 3",
   "language": "python",
   "name": "python3"
  },
  "language_info": {
   "codemirror_mode": {
    "name": "ipython",
    "version": 3
   },
   "file_extension": ".py",
   "mimetype": "text/x-python",
   "name": "python",
   "nbconvert_exporter": "python",
   "pygments_lexer": "ipython3",
   "version": "3.6.1"
  }
 },
 "nbformat": 4,
 "nbformat_minor": 2
}
